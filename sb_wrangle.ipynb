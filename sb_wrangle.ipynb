{
 "cells": [
  {
   "cell_type": "markdown",
   "metadata": {
    "collapsed": true
   },
   "source": [
    "# Spring Board Data Wrangling\n",
    "The purpose of this document is to detail and explore data wrangling in Pandas"
   ]
  },
  {
   "cell_type": "markdown",
   "metadata": {},
   "source": [
    "## Initiate\n",
    "\n",
    "Import modules and read data"
   ]
  },
  {
   "cell_type": "code",
   "execution_count": 1,
   "metadata": {
    "collapsed": true
   },
   "outputs": [],
   "source": [
    "# Module\n",
    "import pandas as pd\n",
    "import numpy as np\n",
    "import matplotlib.pyplot as plt\n",
    "import seaborn as sbs\n",
    "# Path\n",
    "path = \"C:\\\\Users\\\\chris\\\\Google Drive\\\\SB\\Data\\\\\"\n",
    "\n",
    "# Data\n",
    "data_cast = pd.read_csv(path+'cast.csv')\n",
    "data_dates = pd.read_csv(path+'release_dates.csv')\n",
    "data_titles = pd.read_csv(path+'titles.csv')\n",
    "\n",
    "# matplot display\n",
    "%matplotlib inline"
   ]
  },
  {
   "cell_type": "code",
   "execution_count": 4,
   "metadata": {
    "collapsed": false,
    "scrolled": true
   },
   "outputs": [
    {
     "name": "stdout",
     "output_type": "stream",
     "text": [
      "                  title  year      name   type                character     n\n",
      "0        Closet Monster  2015  Buffy #1  actor                  Buffy 4   NaN\n",
      "1       Suuri illusioni  1985    Homo $  actor                   Guests  22.0\n",
      "2   Battle of the Sexes  2017   $hutter  actor          Bobby Riggs Fan  10.0\n",
      "3  Secret in Their Eyes  2015   $hutter  actor          2002 Dodger Fan   NaN\n",
      "4            Steve Jobs  2015   $hutter  actor  1988 Opera House Patron   NaN\n",
      "\n",
      "                    title  year      country        date\n",
      "0   #73, Shaanthi Nivaasa  2007        India  2007-06-15\n",
      "1                 #Beings  2015      Romania  2015-01-29\n",
      "2               #Declimax  2018  Netherlands  2018-01-21\n",
      "3  #Ewankosau saranghaeyo  2015  Philippines  2015-01-21\n",
      "4                 #Horror  2015          USA  2015-11-20\n",
      "\n",
      "                     title  year\n",
      "0           The Rising Son  1990\n",
      "1  The Thousand Plane Raid  1969\n",
      "2         Crucea de piatra  1993\n",
      "3                  Country  2000\n",
      "4               Gaiking II  2011\n"
     ]
    }
   ],
   "source": [
    "\n",
    "print(\n",
    "    data_cast.head(5),\n",
    "    data_dates.head(5),\n",
    "    data_titles.head(5),sep = '\\n'*2)"
   ]
  },
  {
   "cell_type": "code",
   "execution_count": 11,
   "metadata": {
    "collapsed": false
   },
   "outputs": [],
   "source": [
    "a = 10\n",
    "%qtconsole"
   ]
  }
 ],
 "metadata": {
  "kernelspec": {
   "display_name": "Python 3",
   "language": "python",
   "name": "python3"
  },
  "language_info": {
   "codemirror_mode": {
    "name": "ipython",
    "version": 3
   },
   "file_extension": ".py",
   "mimetype": "text/x-python",
   "name": "python",
   "nbconvert_exporter": "python",
   "pygments_lexer": "ipython3",
   "version": "3.6.0"
  }
 },
 "nbformat": 4,
 "nbformat_minor": 2
}
