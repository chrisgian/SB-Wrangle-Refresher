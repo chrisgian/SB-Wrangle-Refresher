{
 "cells": [
  {
   "cell_type": "markdown",
   "metadata": {
    "collapsed": true
   },
   "source": [
    "# Spring Board Data Wrangling\n",
    "The purpose of this document is to detail and explore data wrangling in Pandas"
   ]
  },
  {
   "cell_type": "markdown",
   "metadata": {},
   "source": [
    "## Initiate\n",
    "Import modules and read data"
   ]
  },
  {
   "cell_type": "code",
   "execution_count": 5,
   "metadata": {
    "collapsed": true
   },
   "outputs": [],
   "source": [
    "import pandas as pd\n",
    "import numpy as np\n",
    "import matplotlib.pyplot as plt\n",
    "\n",
    "path = \"C:\\\\Users\\\\chris\\\\Google Drive\\\\SB\\Data\\\\\"\n",
    "\n",
    "data_cast = pd.read_csv(path+'cast.csv')\n",
    "data_release_dates = pd.read_csv(path+'release_dates.csv')\n",
    "data_titles = pd.read_csv(path+'titles.csv')"
   ]
  },
  {
   "cell_type": "code",
   "execution_count": 23,
   "metadata": {
    "collapsed": false
   },
   "outputs": [
    {
     "name": "stdout",
     "output_type": "stream",
     "text": [
      "                            title  year\n",
      "0                  The Rising Son  1990\n",
      "1         The Thousand Plane Raid  1969\n",
      "2                Crucea de piatra  1993\n",
      "3                         Country  2000\n",
      "4                      Gaiking II  2011\n",
      "5                     Medusa (IV)  2015\n",
      "6  The Fresh Air Will Do You Good  2008\n",
      "7              Alex in Wonderland  1970\n",
      "8                      L'outsider  2016\n",
      "9          Do Outro Lado do Mundo  2008\n",
      "\n",
      "                    title  year      country        date\n",
      "0   #73, Shaanthi Nivaasa  2007        India  2007-06-15\n",
      "1                 #Beings  2015      Romania  2015-01-29\n",
      "2               #Declimax  2018  Netherlands  2018-01-21\n",
      "3  #Ewankosau saranghaeyo  2015  Philippines  2015-01-21\n",
      "4                 #Horror  2015          USA  2015-11-20\n",
      "5                 #Horror  2015           UK  2016-05-16\n",
      "6           #Lucky Number  2015          USA  2015-09-01\n",
      "7      #Nerealnaya lyubov  2014       Russia  2014-02-13\n",
      "8          #Pellichoopulu  2016        India  2016-07-29\n",
      "9                   #Roxy  2017          USA  2017-03-01\n",
      "\n",
      "                            title  year\n",
      "0                  The Rising Son  1990\n",
      "1         The Thousand Plane Raid  1969\n",
      "2                Crucea de piatra  1993\n",
      "3                         Country  2000\n",
      "4                      Gaiking II  2011\n",
      "5                     Medusa (IV)  2015\n",
      "6  The Fresh Air Will Do You Good  2008\n",
      "7              Alex in Wonderland  1970\n",
      "8                      L'outsider  2016\n",
      "9          Do Outro Lado do Mundo  2008\n"
     ]
    }
   ],
   "source": [
    "\n",
    "print(\n",
    "    data_titles.head(10),\n",
    "    data_release_dates.head(10),\n",
    "    data_titles.head(10),sep = '\\n'*2)"
   ]
  }
 ],
 "metadata": {
  "kernelspec": {
   "display_name": "Python 3",
   "language": "python",
   "name": "python3"
  },
  "language_info": {
   "codemirror_mode": {
    "name": "ipython",
    "version": 3
   },
   "file_extension": ".py",
   "mimetype": "text/x-python",
   "name": "python",
   "nbconvert_exporter": "python",
   "pygments_lexer": "ipython3",
   "version": "3.6.0"
  }
 },
 "nbformat": 4,
 "nbformat_minor": 2
}
